{
 "cells": [
  {
   "cell_type": "code",
   "execution_count": 1,
   "metadata": {},
   "outputs": [
    {
     "name": "stdout",
     "output_type": "stream",
     "text": [
      "c:\\Users\\chenh\\OneDrive\\Desktop\\simulations\\paper1\\sim\\bundle1\n"
     ]
    }
   ],
   "source": [
    "import math\n",
    "import warnings\n",
    "import numpy as np\n",
    "import pandas as pd\n",
    "from scipy import optimize\n",
    "from timeit import default_timer as time\n",
    "from scipy.linalg import block_diag\n",
    "from scipy.special import erf\n",
    "from MaxLikelihood_1g_2024 import LK_MLE_2024\n",
    "import os    \n",
    "warnings.simplefilter(action='ignore')\n",
    "from MaxLikelihood_1g_2024 import LK_MLE_2024\n",
    "from all_m_1 import channel_one"
   ]
  },
  {
   "cell_type": "code",
   "execution_count": 14,
   "metadata": {},
   "outputs": [
    {
     "name": "stdout",
     "output_type": "stream",
     "text": [
      "the true response function is Hill_S\n",
      "The true ROI is 0.5374182173327501\n",
      "The response variable is Weibull_S\n",
      "The scaling method is min_max\n",
      "The estimated ROI is 0.10953512860902688\n",
      "The response variable is Weibull_C\n",
      "The scaling method is min_max\n",
      "The estimated ROI is 0.4187665856985751\n",
      "The response variable is Hill_S\n",
      "The scaling method is min_max\n",
      "The estimated ROI is 0.5231165302845201\n",
      "The response variable is Hill_C\n",
      "The scaling method is min_max\n",
      "The estimated ROI is 0.607081622925599\n",
      "The response variable is Sigmoid\n",
      "The scaling method is min_max\n",
      "The estimated ROI is 0.6365493520408564\n",
      "The response variable is Error\n",
      "The scaling method is min_max\n",
      "The estimated ROI is 0.22597825999074256\n"
     ]
    }
   ],
   "source": [
    "hill_s = channel_one(w = 52, L = 5, alph = 0.5, lamb = 1, beta1 = 1, true_response = 'Hill_S', scale = 'min_max', ites = 200)"
   ]
  },
  {
   "cell_type": "code",
   "execution_count": 6,
   "metadata": {},
   "outputs": [
    {
     "name": "stdout",
     "output_type": "stream",
     "text": [
      "the true response function is Weibull_S\n",
      "The true ROI is 0.6141650454154771\n",
      "The response variable is Weibull_S\n",
      "The scaling method is min_max\n",
      "The estimated ROI is 0.5640478796105243\n",
      "The response variable is Weibull_C\n",
      "The scaling method is min_max\n",
      "The estimated ROI is 0.5938395194446402\n",
      "The response variable is Hill_S\n",
      "The scaling method is min_max\n",
      "The estimated ROI is 0.6658501599472599\n",
      "The response variable is Hill_C\n",
      "The scaling method is min_max\n",
      "The estimated ROI is 0.6805067279644451\n",
      "The response variable is Sigmoid\n",
      "The scaling method is min_max\n",
      "The estimated ROI is 0.8239867335450711\n",
      "The response variable is Error\n",
      "The scaling method is min_max\n",
      "The estimated ROI is 0.6074527195180273\n"
     ]
    }
   ],
   "source": [
    "weibull_s = channel_one(w = 52, L = 5, alph = 0.5, lamb = 1, beta1 = 1, true_response = 'Weibull_S', scale = 'min_max', ites=200, Const = 500)"
   ]
  },
  {
   "cell_type": "code",
   "execution_count": 10,
   "metadata": {},
   "outputs": [
    {
     "data": {
      "text/plain": [
       "0.6260610717417174"
      ]
     },
     "execution_count": 10,
     "metadata": {},
     "output_type": "execute_result"
    }
   ],
   "source": [
    "# compute the mean of the hill_c[1]\n",
    "mean_weibull_s = np.mean(list(weibull_s[1].values())[0:4])\n",
    "mean_weibull_s"
   ]
  },
  {
   "cell_type": "code",
   "execution_count": 9,
   "metadata": {},
   "outputs": [
    {
     "name": "stdout",
     "output_type": "stream",
     "text": [
      "the true response function is Hill_C\n",
      "The true ROI is 0.629948792358566\n",
      "The response variable is Weibull_S\n",
      "The scaling method is min_max\n",
      "The estimated ROI is 0.6618908382009061\n",
      "The response variable is Weibull_C\n",
      "The scaling method is min_max\n",
      "The estimated ROI is 0.5223677415429634\n",
      "The response variable is Hill_S\n",
      "The scaling method is min_max\n",
      "The estimated ROI is 0.5945976157544736\n",
      "The response variable is Hill_C\n",
      "The scaling method is min_max\n",
      "The estimated ROI is 0.6499313699118755\n",
      "The response variable is Sigmoid\n",
      "The scaling method is min_max\n",
      "The estimated ROI is 0.684654394104801\n",
      "The response variable is Error\n",
      "The scaling method is min_max\n",
      "The estimated ROI is 0.5857868137077336\n"
     ]
    }
   ],
   "source": [
    "hill_c = channel_one(w = 52, L = 5, alph = 0.5, lamb = 1, beta1 = 1, true_response = 'Hill_C', scale = 'min_max', ites=200)"
   ]
  },
  {
   "cell_type": "code",
   "execution_count": 15,
   "metadata": {},
   "outputs": [
    {
     "data": {
      "text/plain": [
       "0.6071968913525546"
      ]
     },
     "execution_count": 15,
     "metadata": {},
     "output_type": "execute_result"
    }
   ],
   "source": [
    "# compute the mean of the hill_c[1]\n",
    "mean_hill_c = np.mean(list(hill_c[1].values())[0:4])\n",
    "mean_hill_c"
   ]
  },
  {
   "cell_type": "code",
   "execution_count": 16,
   "metadata": {},
   "outputs": [
    {
     "name": "stdout",
     "output_type": "stream",
     "text": [
      "the true response function is Weibull_C\n",
      "The true ROI is 0.7454950829257453\n",
      "The response variable is Weibull_S\n",
      "The scaling method is min_max\n",
      "The estimated ROI is 0.6614724537024597\n",
      "The response variable is Weibull_C\n",
      "The scaling method is min_max\n",
      "The estimated ROI is 0.6875358883080646\n",
      "The response variable is Hill_S\n",
      "The scaling method is min_max\n",
      "The estimated ROI is 0.8027002400450814\n",
      "The response variable is Hill_C\n",
      "The scaling method is min_max\n",
      "The estimated ROI is 0.7371996714028201\n",
      "The response variable is Sigmoid\n",
      "The scaling method is min_max\n",
      "The estimated ROI is 0.955311147298135\n",
      "The response variable is Error\n",
      "The scaling method is min_max\n",
      "The estimated ROI is 0.669035065153928\n"
     ]
    }
   ],
   "source": [
    "weibull_c = channel_one(w = 52, L = 5, alph = 0.5, lamb = 1, beta1 = 1, true_response = 'Weibull_C', scale = 'min_max', ites=200)"
   ]
  },
  {
   "cell_type": "code",
   "execution_count": 19,
   "metadata": {},
   "outputs": [
    {
     "name": "stdout",
     "output_type": "stream",
     "text": [
      "the true response function is Sigmoid\n",
      "The true ROI is 0.8546827254646779\n",
      "The response variable is Weibull_S\n",
      "The scaling method is min_max\n",
      "The estimated ROI is 0.9529774646327663\n",
      "The response variable is Weibull_C\n",
      "The scaling method is min_max\n",
      "The estimated ROI is 0.7599588997785317\n",
      "The response variable is Hill_S\n",
      "The scaling method is min_max\n",
      "The estimated ROI is 0.7549883884689809\n",
      "The response variable is Hill_C\n",
      "The scaling method is min_max\n",
      "The estimated ROI is 0.8792667843276369\n",
      "The response variable is Sigmoid\n",
      "The scaling method is min_max\n",
      "The estimated ROI is 0.7919148687193027\n",
      "The response variable is Error\n",
      "The scaling method is min_max\n",
      "The estimated ROI is 0.6372772655503411\n"
     ]
    }
   ],
   "source": [
    "sig = channel_one(w = 52, L = 5, alph = 0.5, lamb = 1, beta1 = 1, true_response = 'Sigmoid', scale = 'min_max', ites=200)"
   ]
  },
  {
   "cell_type": "code",
   "execution_count": 21,
   "metadata": {},
   "outputs": [
    {
     "name": "stdout",
     "output_type": "stream",
     "text": [
      "the true response function is Error\n",
      "The true ROI is 0.8821740741617817\n",
      "The response variable is Weibull_S\n",
      "The scaling method is min_max\n",
      "The estimated ROI is 0.7244224790969683\n",
      "The response variable is Weibull_C\n",
      "The scaling method is min_max\n",
      "The estimated ROI is 0.9591899389078883\n",
      "The response variable is Hill_S\n",
      "The scaling method is min_max\n",
      "The estimated ROI is 0.7603630817734623\n",
      "The response variable is Hill_C\n",
      "The scaling method is min_max\n",
      "The estimated ROI is 0.910287319175163\n",
      "The response variable is Sigmoid\n",
      "The scaling method is min_max\n",
      "The estimated ROI is 0.9935199365183386\n",
      "The response variable is Error\n",
      "The scaling method is min_max\n",
      "The estimated ROI is 0.7140714741966652\n"
     ]
    }
   ],
   "source": [
    "error1 = channel_one(w = 52, L = 5, alph = 0.5, lamb = 1.0, beta1 = 1, true_response = 'Error', scale = 'min_max', ites=200)"
   ]
  },
  {
   "cell_type": "code",
   "execution_count": 8,
   "metadata": {},
   "outputs": [],
   "source": [
    "# print(channel_one(w = 52, L = 5, alph = 0.5, lamb = 0.8, beta1 = 1.2, true_response = 'Hill_S', scale = 'min_max'))"
   ]
  },
  {
   "cell_type": "code",
   "execution_count": null,
   "metadata": {},
   "outputs": [],
   "source": []
  }
 ],
 "metadata": {
  "kernelspec": {
   "display_name": "Python 3",
   "language": "python",
   "name": "python3"
  },
  "language_info": {
   "codemirror_mode": {
    "name": "ipython",
    "version": 3
   },
   "file_extension": ".py",
   "mimetype": "text/x-python",
   "name": "python",
   "nbconvert_exporter": "python",
   "pygments_lexer": "ipython3",
   "version": "3.10.11"
  }
 },
 "nbformat": 4,
 "nbformat_minor": 2
}
