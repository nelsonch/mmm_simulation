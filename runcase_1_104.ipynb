{
 "cells": [
  {
   "cell_type": "code",
   "execution_count": 1,
   "metadata": {},
   "outputs": [
    {
     "name": "stdout",
     "output_type": "stream",
     "text": [
      "c:\\Users\\chenh\\OneDrive\\Desktop\\simulations\\paper1\\sim\\bundle1\n"
     ]
    }
   ],
   "source": [
    "import math\n",
    "import warnings\n",
    "import numpy as np\n",
    "import pandas as pd\n",
    "from scipy import optimize\n",
    "from timeit import default_timer as time\n",
    "from scipy.linalg import block_diag\n",
    "from scipy.special import erf\n",
    "from MaxLikelihood_1g_2024 import LK_MLE_2024\n",
    "import os    \n",
    "warnings.simplefilter(action='ignore')\n",
    "from MaxLikelihood_1g_2024 import LK_MLE_2024\n",
    "from all_m_1 import channel_one"
   ]
  },
  {
   "cell_type": "code",
   "execution_count": 2,
   "metadata": {},
   "outputs": [
    {
     "name": "stdout",
     "output_type": "stream",
     "text": [
      "the true response function is Hill_S\n",
      "The true ROI is 0.5416616366147436\n",
      "The response variable is Weibull_S\n",
      "The scaling method is min_max\n",
      "The estimated ROI is 0.5233931357429079\n",
      "The response variable is Weibull_C\n",
      "The scaling method is min_max\n",
      "The estimated ROI is 0.5128460090180889\n",
      "The response variable is Hill_S\n",
      "The scaling method is min_max\n",
      "The estimated ROI is 0.5895173700845442\n",
      "The response variable is Hill_C\n",
      "The scaling method is min_max\n",
      "The estimated ROI is 0.5302567804720912\n",
      "The response variable is Sigmoid\n",
      "The scaling method is min_max\n",
      "The estimated ROI is 0.4832430372281544\n",
      "The response variable is Error\n",
      "The scaling method is min_max\n",
      "The estimated ROI is 0.45260234200089644\n"
     ]
    }
   ],
   "source": [
    "hill_s = channel_one(w = 104, L = 5, alph = 0.5, lamb = 1, beta1 = 1, true_response = 'Hill_S', scale = 'min_max', ites = 200)"
   ]
  },
  {
   "cell_type": "code",
   "execution_count": 3,
   "metadata": {},
   "outputs": [
    {
     "name": "stdout",
     "output_type": "stream",
     "text": [
      "the true response function is Weibull_S\n",
      "The true ROI is 0.6205830723683812\n",
      "The response variable is Weibull_S\n",
      "The scaling method is min_max\n",
      "The estimated ROI is 0.6554565259569715\n",
      "The response variable is Weibull_C\n",
      "The scaling method is min_max\n",
      "The estimated ROI is 0.5377643938404918\n",
      "The response variable is Hill_S\n",
      "The scaling method is min_max\n",
      "The estimated ROI is 0.7600707720801726\n",
      "The response variable is Hill_C\n",
      "The scaling method is min_max\n",
      "The estimated ROI is 0.5489442403181491\n",
      "The response variable is Sigmoid\n",
      "The scaling method is min_max\n",
      "The estimated ROI is 0.642241114829316\n",
      "The response variable is Error\n",
      "The scaling method is min_max\n",
      "The estimated ROI is 0.5727959542859202\n"
     ]
    }
   ],
   "source": [
    "weibull_s = channel_one(w = 104, L = 5, alph = 0.5, lamb = 1, beta1 = 1, true_response = 'Weibull_S', scale = 'min_max', ites=200, Const = 500)"
   ]
  },
  {
   "cell_type": "code",
   "execution_count": 5,
   "metadata": {},
   "outputs": [
    {
     "name": "stdout",
     "output_type": "stream",
     "text": [
      "the true response function is Hill_C\n",
      "The true ROI is 0.6360293772374819\n",
      "The response variable is Weibull_S\n",
      "The scaling method is min_max\n",
      "The estimated ROI is 0.7528811494557108\n",
      "The response variable is Weibull_C\n",
      "The scaling method is min_max\n",
      "The estimated ROI is 0.7682784823004657\n",
      "The response variable is Hill_S\n",
      "The scaling method is min_max\n",
      "The estimated ROI is 0.6392964884567692\n",
      "The response variable is Hill_C\n",
      "The scaling method is min_max\n",
      "The estimated ROI is 0.5491311252002776\n",
      "The response variable is Sigmoid\n",
      "The scaling method is min_max\n",
      "The estimated ROI is 0.5754366366291267\n",
      "The response variable is Error\n",
      "The scaling method is min_max\n",
      "The estimated ROI is 0.5750361720782529\n"
     ]
    }
   ],
   "source": [
    "hill_c = channel_one(w = 104, L = 5, alph = 0.5, lamb = 1, beta1 = 1, true_response = 'Hill_C', scale = 'min_max', ites=200)"
   ]
  },
  {
   "cell_type": "code",
   "execution_count": 6,
   "metadata": {},
   "outputs": [
    {
     "name": "stdout",
     "output_type": "stream",
     "text": [
      "the true response function is Weibull_C\n",
      "The true ROI is 0.7546987103732264\n",
      "The response variable is Weibull_S\n",
      "The scaling method is min_max\n",
      "The estimated ROI is 0.8298312956807365\n",
      "The response variable is Weibull_C\n",
      "The scaling method is min_max\n",
      "The estimated ROI is 0.7123430257444917\n",
      "The response variable is Hill_S\n",
      "The scaling method is min_max\n",
      "The estimated ROI is 0.659636559610554\n",
      "The response variable is Hill_C\n",
      "The scaling method is min_max\n",
      "The estimated ROI is 0.8610649369963158\n",
      "The response variable is Sigmoid\n",
      "The scaling method is min_max\n",
      "The estimated ROI is 0.8159476931279189\n",
      "The response variable is Error\n",
      "The scaling method is min_max\n",
      "The estimated ROI is 0.8164453099617035\n"
     ]
    }
   ],
   "source": [
    "weibull_c = channel_one(w = 104, L = 5, alph = 0.5, lamb = 1, beta1 = 1, true_response = 'Weibull_C', scale = 'min_max', ites=200)"
   ]
  },
  {
   "cell_type": "code",
   "execution_count": 7,
   "metadata": {},
   "outputs": [
    {
     "name": "stdout",
     "output_type": "stream",
     "text": [
      "the true response function is Sigmoid\n",
      "The true ROI is 0.8615512757416021\n",
      "The response variable is Weibull_S\n",
      "The scaling method is min_max\n",
      "The estimated ROI is 0.7534987236946425\n",
      "The response variable is Weibull_C\n",
      "The scaling method is min_max\n",
      "The estimated ROI is 0.8550778780607512\n",
      "The response variable is Hill_S\n",
      "The scaling method is min_max\n",
      "The estimated ROI is 0.8837929131970952\n",
      "The response variable is Hill_C\n",
      "The scaling method is min_max\n",
      "The estimated ROI is 0.7582745265677268\n",
      "The response variable is Sigmoid\n",
      "The scaling method is min_max\n",
      "The estimated ROI is 0.9021713235417177\n",
      "The response variable is Error\n",
      "The scaling method is min_max\n",
      "The estimated ROI is 0.8518877223153368\n"
     ]
    }
   ],
   "source": [
    "sig = channel_one(w = 104, L = 5, alph = 0.5, lamb = 1, beta1 = 1, true_response = 'Sigmoid', scale = 'min_max', ites=200)"
   ]
  },
  {
   "cell_type": "code",
   "execution_count": 8,
   "metadata": {},
   "outputs": [
    {
     "name": "stdout",
     "output_type": "stream",
     "text": [
      "the true response function is Error\n",
      "The true ROI is 0.895646462677384\n",
      "The response variable is Weibull_S\n",
      "The scaling method is min_max\n",
      "The estimated ROI is 0.7815178423216925\n",
      "The response variable is Weibull_C\n",
      "The scaling method is min_max\n",
      "The estimated ROI is 0.7593501393342228\n",
      "The response variable is Hill_S\n",
      "The scaling method is min_max\n",
      "The estimated ROI is 0.998372749204431\n",
      "The response variable is Hill_C\n",
      "The scaling method is min_max\n",
      "The estimated ROI is 0.917499109946996\n",
      "The response variable is Sigmoid\n",
      "The scaling method is min_max\n",
      "The estimated ROI is 0.9435846566065877\n",
      "The response variable is Error\n",
      "The scaling method is min_max\n",
      "The estimated ROI is 0.8599707860185437\n"
     ]
    }
   ],
   "source": [
    "error1 = channel_one(w = 104, L = 5, alph = 0.5, lamb = 1.0, beta1 = 1, true_response = 'Error', scale = 'min_max', ites=200)"
   ]
  },
  {
   "cell_type": "code",
   "execution_count": 9,
   "metadata": {},
   "outputs": [],
   "source": [
    "# print(channel_one(w = 52, L = 5, alph = 0.5, lamb = 0.8, beta1 = 1.2, true_response = 'Hill_S', scale = 'min_max'))"
   ]
  }
 ],
 "metadata": {
  "kernelspec": {
   "display_name": "Python 3",
   "language": "python",
   "name": "python3"
  },
  "language_info": {
   "codemirror_mode": {
    "name": "ipython",
    "version": 3
   },
   "file_extension": ".py",
   "mimetype": "text/x-python",
   "name": "python",
   "nbconvert_exporter": "python",
   "pygments_lexer": "ipython3",
   "version": "3.10.11"
  }
 },
 "nbformat": 4,
 "nbformat_minor": 2
}
